{
 "cells": [
  {
   "cell_type": "markdown",
   "metadata": {
    "collapsed": true,
    "extensions": {
     "jupyter_dashboards": {
      "version": 1,
      "views": {
       "grid_default": {
        "col": 0,
        "height": 4,
        "hidden": false,
        "row": 0,
        "width": 12
       },
       "report_default": {
        "hidden": false
       }
      }
     }
    }
   },
   "source": [
    "# Automated ordering, download, indexing of Landsat USGS data for AGDCv2"
   ]
  },
  {
   "cell_type": "markdown",
   "metadata": {
    "extensions": {
     "jupyter_dashboards": {
      "version": 1,
      "views": {
       "grid_default": {
        "col": 0,
        "height": 4,
        "hidden": false,
        "row": 4,
        "width": 4
       },
       "report_default": {
        "hidden": false
       }
      }
     }
    }
   },
   "source": [
    "## Import the requried libraries"
   ]
  },
  {
   "cell_type": "code",
   "execution_count": 1,
   "metadata": {
    "ExecuteTime": {
     "end_time": "2017-01-04T09:17:08.462774",
     "start_time": "2017-01-04T09:16:48.452330"
    },
    "collapsed": true,
    "extensions": {
     "jupyter_dashboards": {
      "version": 1,
      "views": {
       "grid_default": {
        "hidden": true
       },
       "report_default": {
        "hidden": true
       }
      }
     }
    }
   },
   "outputs": [],
   "source": [
    "import os, json, requests, time, getpass\n",
    "import pandas as pd\n",
    "import geopandas as gpd\n",
    "from shapely.geometry import Polygon\n",
    "import gzip\n",
    "try:\n",
    "    from urllib.parse import urlparse, urljoin\n",
    "except ImportError:\n",
    "    from urlparse import urlparse, urljoin"
   ]
  },
  {
   "cell_type": "markdown",
   "metadata": {
    "extensions": {
     "jupyter_dashboards": {
      "version": 1,
      "views": {
       "grid_default": {
        "hidden": true
       },
       "report_default": {
        "hidden": false
       }
      }
     }
    }
   },
   "source": [
    "## Setup the working directory to store the downloaded data"
   ]
  },
  {
   "cell_type": "code",
   "execution_count": 48,
   "metadata": {
    "collapsed": true,
    "extensions": {
     "jupyter_dashboards": {
      "version": 1,
      "views": {
       "grid_default": {
        "hidden": true
       },
       "report_default": {
        "hidden": true
       }
      }
     }
    }
   },
   "outputs": [],
   "source": [
    "working_dir = os.path.abspath('/g/data/v10/projects/ARD_interoperability')\n",
    "data_dir = os.path.abspath('/g/data/v10/projects/ARD_interoperability/L2/092084')\n",
    "#data_dir = os.path.abspath('/g/data/u46/users/tty547/ARD')"
   ]
  },
  {
   "cell_type": "markdown",
   "metadata": {
    "extensions": {
     "jupyter_dashboards": {
      "version": 1,
      "views": {
       "grid_default": {
        "col": 8,
        "height": 4,
        "hidden": false,
        "row": 4,
        "width": 4
       },
       "report_default": {
        "hidden": false
       }
      }
     }
    }
   },
   "source": [
    "## Determine which WRS path/rows intersect the area of interest"
   ]
  },
  {
   "cell_type": "markdown",
   "metadata": {
    "extensions": {
     "jupyter_dashboards": {
      "version": 1,
      "views": {
       "grid_default": {
        "col": 0,
        "height": 4,
        "hidden": false,
        "row": 8,
        "width": 4
       },
       "report_default": {
        "hidden": false
       }
      }
     }
    }
   },
   "source": [
    "### Define the spatial extent (AOI) and temporal extent of interest"
   ]
  },
  {
   "cell_type": "code",
   "execution_count": 40,
   "metadata": {
    "ExecuteTime": {
     "end_time": "2017-01-04T09:17:14.861344",
     "start_time": "2017-01-04T09:17:14.854893"
    },
    "collapsed": true,
    "extensions": {
     "jupyter_dashboards": {
      "version": 1,
      "views": {
       "grid_default": {
        "hidden": true
       },
       "report_default": {
        "hidden": true
       }
      }
     }
    }
   },
   "outputs": [],
   "source": [
    "#ul_lon, ul_lat = 77.83, 17.84 # upper left longitude, latitude\n",
    "#lr_lon, lr_lat = 78.00, 17.67 # lower right longitude, latitude\n",
    "#date_start, date_end = \"2000-01-01\"  , \"2007-12-31\" # start date and end date for time range selection  \n",
    "date_start = '19870101'\n",
    "date_end = '20021231'"
   ]
  },
  {
   "cell_type": "markdown",
   "metadata": {
    "extensions": {
     "jupyter_dashboards": {
      "version": 1,
      "views": {
       "grid_default": {
        "col": 4,
        "height": 4,
        "hidden": false,
        "row": 8,
        "width": 4
       },
       "report_default": {
        "hidden": false
       }
      }
     }
    }
   },
   "source": [
    "### Determine which WRS2 path/rows cover the AOI"
   ]
  },
  {
   "cell_type": "code",
   "execution_count": 33,
   "metadata": {
    "ExecuteTime": {
     "end_time": "2017-01-04T09:17:21.131986",
     "start_time": "2017-01-04T09:17:18.450750"
    },
    "collapsed": true,
    "extensions": {
     "jupyter_dashboards": {
      "version": 1,
      "views": {
       "grid_default": {
        "col": 8,
        "height": 4,
        "hidden": false,
        "row": 8,
        "width": 4
       },
       "report_default": {
        "hidden": false
       }
      }
     }
    }
   },
   "outputs": [],
   "source": [
    "#polygon_list = [[ul_lon, ul_lat], [lr_lon, ul_lat],[lr_lon, lr_lat],[ul_lon, lr_lat],[ul_lon, ul_lat]]\n",
    "\n",
    "#wrs_query = 'http://api.remotepixel.ca/wrs2tiles?search=poly:'+str(polygon_list)\n",
    "#post_query = requests.get(wrs_query)\n",
    "#wrs_search_result = json.loads(post_query.text)\n",
    "\n",
    "#path_row = []\n",
    "#for item in wrs_search_result['results']:\n",
    "#    path_row.append(str(item['path'])+\"_\"+str(item['row']))\n",
    "\n",
    "#path_row = ['109_82']\n",
    "#path_row = ['144_048']\n",
    "#path_row\n",
    "path = '110'\n",
    "row = '082'"
   ]
  },
  {
   "cell_type": "markdown",
   "metadata": {
    "extensions": {
     "jupyter_dashboards": {
      "version": 1,
      "views": {
       "grid_default": {
        "col": 0,
        "height": 4,
        "hidden": false,
        "row": 12,
        "width": 4
       },
       "report_default": {
        "hidden": false
       }
      }
     }
    }
   },
   "source": [
    "## Download the latest Level 1 inventory from USGS and find the available scenes "
   ]
  },
  {
   "cell_type": "code",
   "execution_count": null,
   "metadata": {
    "ExecuteTime": {
     "end_time": "2017-01-04T09:17:23.651173",
     "start_time": "2017-01-04T09:17:23.647173"
    },
    "collapsed": true,
    "extensions": {
     "jupyter_dashboards": {
      "version": 1,
      "views": {
       "grid_default": {
        "hidden": true
       },
       "report_default": {
        "hidden": true
       }
      }
     }
    }
   },
   "outputs": [],
   "source": [
    "landsat_csv_list = [\"LANDSAT_8_C1.csv.gz\",\n",
    "                    \"LANDSAT_ETM_C1.csv.gz\",\n",
    "                    \"LANDSAT_TM_C1.csv.gz\"\n",
    "                   ]\n",
    "\n",
    "metadata_file_url = \"https://landsat.usgs.gov/landsat/metadata_service/bulk_metadata_files/\""
   ]
  },
  {
   "cell_type": "markdown",
   "metadata": {
    "extensions": {
     "jupyter_dashboards": {
      "version": 1,
      "views": {
       "grid_default": {
        "col": 4,
        "height": 4,
        "hidden": false,
        "row": 12,
        "width": 4
       },
       "report_default": {
        "hidden": false
       }
      }
     }
    }
   },
   "source": [
    "### Download the inventory data from USGS"
   ]
  },
  {
   "cell_type": "code",
   "execution_count": 9,
   "metadata": {
    "ExecuteTime": {
     "end_time": "2017-01-04T09:17:22.998768",
     "start_time": "2017-01-04T09:17:22.992187"
    },
    "collapsed": true,
    "extensions": {
     "jupyter_dashboards": {
      "version": 1,
      "views": {
       "grid_default": {
        "hidden": true
       },
       "report_default": {
        "hidden": true
       }
      }
     }
    }
   },
   "outputs": [],
   "source": [
    "def download_file(url, output_dir):\n",
    "    local_filename = os.path.join(output_dir,url.split('/')[-1])\n",
    "    r = requests.get(url, stream=True)\n",
    "    with open(local_filename, 'wb') as f:\n",
    "        for chunk in r.iter_content(chunk_size=1024): \n",
    "            if chunk: # filter out keep-alive new chunks\n",
    "                f.write(chunk)\n",
    "    return local_filename"
   ]
  },
  {
   "cell_type": "code",
   "execution_count": null,
   "metadata": {
    "ExecuteTime": {
     "end_time": "2016-12-23T09:41:03.960570",
     "start_time": "2016-12-23T09:39:11.473261"
    },
    "collapsed": true,
    "extensions": {
     "jupyter_dashboards": {
      "version": 1,
      "views": {
       "grid_default": {
        "hidden": true
       },
       "report_default": {
        "hidden": true
       }
      }
     }
    }
   },
   "outputs": [],
   "source": [
    "download = False\n",
    "if download:\n",
    "    for csv in landsat_csv_list:\n",
    "        download_file(urljoin(metadata_file_url, csv), working_dir)"
   ]
  },
  {
   "cell_type": "markdown",
   "metadata": {
    "extensions": {
     "jupyter_dashboards": {
      "version": 1,
      "views": {
       "grid_default": {
        "col": 8,
        "height": 4,
        "hidden": false,
        "row": 12,
        "width": 4
       },
       "report_default": {
        "hidden": false
       }
      }
     }
    }
   },
   "source": [
    "### Unzip inventory files and generate the scene product ID list of the interest"
   ]
  },
  {
   "cell_type": "code",
   "execution_count": null,
   "metadata": {
    "ExecuteTime": {
     "end_time": "2017-01-04T09:26:34.621673",
     "start_time": "2017-01-04T09:17:30.912113"
    },
    "collapsed": true,
    "extensions": {
     "jupyter_dashboards": {
      "version": 1,
      "views": {
       "grid_default": {
        "hidden": true
       },
       "report_default": {
        "hidden": true
       }
      }
     }
    }
   },
   "outputs": [],
   "source": [
    "scene_list = []\n",
    "\n",
    "for csv in landsat_csv_list:\n",
    "    collection = gzip.open(os.path.join(working_dir, csv), 'rb')\n",
    "\n",
    "    data_inventory = pd.read_csv(collection , usecols=['acquisitionDate', \"LANDSAT_PRODUCT_ID\", \"path\", \"row\"]) # limit the columns to only the ones we need\n",
    "    data_inventory[\"path_row\"] = data_inventory[\"path\"].map(str) + \"_\" + data_inventory[\"row\"].map(str)\n",
    "    data_inventory['acquisitionDate'] = data_inventory['acquisitionDate'].apply(pd.to_datetime)\n",
    "    data_inventory = data_inventory.loc[(data_inventory['acquisitionDate'] >= pd.to_datetime(date_start)) &\n",
    "                                        (data_inventory['acquisitionDate'] <= pd.to_datetime(date_end)) &\n",
    "                                        data_inventory['path_row'].isin(path_row)]\n",
    "    scene_list.extend(data_inventory['LANDSAT_PRODUCT_ID'].tolist())\n",
    "    \n",
    "scene_list  \n",
    "print (len(scene_list))"
   ]
  },
  {
   "cell_type": "markdown",
   "metadata": {},
   "source": [
    "### Alternatively use another methond from Wenjun and preprocessed product list to speed up the process to derive the scene list"
   ]
  },
  {
   "cell_type": "code",
   "execution_count": 34,
   "metadata": {
    "collapsed": true
   },
   "outputs": [],
   "source": [
    "def extract_products(fn, path, row, ymd1, ymd2):\n",
    "  pw = \"{path:3}{row:3}\".format(path = path, row = row)\n",
    "  lines = [line.strip() for line in open(fn).readlines() if pw in line]\n",
    "  result = []\n",
    "  for line in lines:\n",
    "     if ymd1 <= line.split('_')[3] <= ymd2: result.append(line)\n",
    "  return result"
   ]
  },
  {
   "cell_type": "code",
   "execution_count": 41,
   "metadata": {},
   "outputs": [
    {
     "name": "stdout",
     "output_type": "stream",
     "text": [
      "299\n"
     ]
    }
   ],
   "source": [
    "product_id_file = os.path.join(working_dir, 'Product_ID.csv')\n",
    "scene_list = extract_products(product_id_file, path, row, date_start, date_end)\n",
    "print (len(scene_list))"
   ]
  },
  {
   "cell_type": "markdown",
   "metadata": {
    "extensions": {
     "jupyter_dashboards": {
      "version": 1,
      "views": {
       "grid_default": {
        "col": 4,
        "height": 4,
        "hidden": false,
        "row": 16,
        "width": 4
       },
       "report_default": {
        "hidden": false
       }
      }
     }
    }
   },
   "source": [
    "## Order from ESPA for the wanted products (sr, bt and pixel_qa) for the scene list"
   ]
  },
  {
   "cell_type": "markdown",
   "metadata": {
    "extensions": {
     "jupyter_dashboards": {
      "version": 1,
      "views": {
       "grid_default": {
        "col": 8,
        "height": 4,
        "hidden": false,
        "row": 16,
        "width": 4
       },
       "report_default": {
        "hidden": false
       }
      }
     }
    }
   },
   "source": [
    "### Register with ESPA and enter your credentials below https://espa.cr.usgs.gov"
   ]
  },
  {
   "cell_type": "code",
   "execution_count": 12,
   "metadata": {
    "extensions": {
     "jupyter_dashboards": {
      "version": 1,
      "views": {
       "grid_default": {
        "col": 4,
        "height": 4,
        "hidden": false,
        "row": 20,
        "width": 4
       },
       "report_default": {
        "hidden": false
       }
      }
     }
    }
   },
   "outputs": [
    {
     "name": "stdout",
     "output_type": "stream",
     "text": [
      "········\n",
      "········\n"
     ]
    }
   ],
   "source": [
    "username = getpass.getpass()\n",
    "password = getpass.getpass()"
   ]
  },
  {
   "cell_type": "markdown",
   "metadata": {},
   "source": [
    "### The ESPA-API interacting with the ESPA ordering system"
   ]
  },
  {
   "cell_type": "code",
   "execution_count": 13,
   "metadata": {
    "collapsed": true,
    "extensions": {
     "jupyter_dashboards": {
      "version": 1,
      "views": {
       "grid_default": {
        "hidden": true
       },
       "report_default": {
        "hidden": true
       }
      }
     }
    }
   },
   "outputs": [],
   "source": [
    "host = 'https://espa.cr.usgs.gov/api/v1/'"
   ]
  },
  {
   "cell_type": "code",
   "execution_count": 14,
   "metadata": {
    "collapsed": true,
    "extensions": {
     "jupyter_dashboards": {
      "version": 1,
      "views": {
       "grid_default": {
        "hidden": true
       },
       "report_default": {
        "hidden": true
       }
      }
     }
    }
   },
   "outputs": [],
   "source": [
    "def espa_api(endpoint, verb='get', body=None, uauth=None):\n",
    "    auth_tup = uauth if uauth else (username, password)\n",
    "    response = getattr(requests, verb)(host + endpoint, auth=auth_tup, json=body)\n",
    "    print('{} {}'.format(response.status_code, response.reason))\n",
    "    data = response.json()\n",
    "    \n",
    "    if isinstance(data, dict):\n",
    "        messages = data.pop(\"messages\", None)\n",
    "        if messages:\n",
    "            print(json.dumps(messages, indent=4))\n",
    "    try:\n",
    "        response.raise_for_status()\n",
    "    except Exception as e:\n",
    "        print (e)\n",
    "        return None\n",
    "    else:\n",
    "        return data"
   ]
  },
  {
   "cell_type": "markdown",
   "metadata": {},
   "source": [
    "### Define the order with product types and scenes"
   ]
  },
  {
   "cell_type": "code",
   "execution_count": 42,
   "metadata": {
    "ExecuteTime": {
     "end_time": "2017-01-04T11:06:03.007251",
     "start_time": "2017-01-04T11:06:01.928106"
    },
    "extensions": {
     "jupyter_dashboards": {
      "version": 1,
      "views": {
       "grid_default": {
        "col": 8,
        "height": 39,
        "hidden": false,
        "row": 20,
        "width": 4
       },
       "report_default": {
        "hidden": false
       }
      }
     }
    }
   },
   "outputs": [
    {
     "name": "stdout",
     "output_type": "stream",
     "text": [
      "200 OK\n",
      "dict_keys(['etm7_collection', 'tm5_collection'])\n",
      "total order number 299\n"
     ]
    }
   ],
   "source": [
    "prod_types = ['sr', 'bt', 'pixel_qa']\n",
    "\n",
    "request_data = {\n",
    "    'inputs': scene_list\n",
    "}\n",
    "\n",
    "order = espa_api('available-products', body=request_data)\n",
    "#print (json.dumps(order, indent=4))\n",
    "print (order.keys())\n",
    "\n",
    "collection = {'LT05': 'tm5_collection',\n",
    "              'LE07': 'etm7_collection',\n",
    "              'LC08': 'olitirs8_collection',\n",
    "              'LO08': 'oli8_collection'}\n",
    "\n",
    "# delete problem scenes from order\n",
    "problems = ['date_restricted', 'not_implemented', 'oli8_collection']\n",
    "problem_scenes = []\n",
    "for a_problem in problems:\n",
    "    if a_problem in order.keys():\n",
    "        #print (order[a_problem])\n",
    "        if a_problem == 'date_restricted':\n",
    "            problem_scenes.extend(order[a_problem]['sr'])\n",
    "            print (a_problem, len(order[a_problem]['sr']))\n",
    "        elif a_problem == 'not_implemented':\n",
    "            print (a_problem, len(order[a_problem])) \n",
    "        else:\n",
    "            print (a_problem, len(order[a_problem]['inputs']))\n",
    "        del order[a_problem]\n",
    "    \n",
    "if len(problem_scenes) > 0:    \n",
    "    for a_problem_scene in problem_scenes:\n",
    "        problem_collection = collection[a_problem_scene[:4]]\n",
    "        order[problem_collection]['inputs'].remove(a_problem_scene)   \n",
    "\n",
    "order_no = 0        \n",
    "for sensor in order.keys():\n",
    "    if isinstance(order[sensor], dict) and order[sensor].get('inputs'):\n",
    "        order[sensor]['products'] = prod_types\n",
    "        print (sensor, len(order[sensor]['inputs']))\n",
    "        order_no += len(order[sensor]['inputs'])\n",
    "\n",
    "print ('total order number', order_no)\n",
    "        \n",
    "order['format'] = 'gtiff'\n",
    "#print (json.dumps(order, indent=4))"
   ]
  },
  {
   "cell_type": "markdown",
   "metadata": {},
   "source": [
    "### Submit the order"
   ]
  },
  {
   "cell_type": "code",
   "execution_count": 43,
   "metadata": {
    "extensions": {
     "jupyter_dashboards": {
      "version": 1,
      "views": {
       "grid_default": {
        "col": 0,
        "height": 5,
        "hidden": false,
        "row": 31,
        "width": 4
       },
       "report_default": {
        "hidden": false
       }
      }
     }
    }
   },
   "outputs": [
    {
     "name": "stdout",
     "output_type": "stream",
     "text": [
      "POST /api/v1/order\n",
      "201 CREATED\n"
     ]
    }
   ],
   "source": [
    "print ('POST /api/v1/order')\n",
    "post_resp = espa_api('order', verb='post', body=order)"
   ]
  },
  {
   "cell_type": "markdown",
   "metadata": {},
   "source": [
    "### Check the order status"
   ]
  },
  {
   "cell_type": "code",
   "execution_count": 44,
   "metadata": {},
   "outputs": [
    {
     "name": "stdout",
     "output_type": "stream",
     "text": [
      "200 OK\n",
      "{\n",
      "    \"orderid\": \"espa-tina.yang@ga.gov.au-11152017-203805-110\",\n",
      "    \"status\": \"ordered\"\n",
      "}\n"
     ]
    }
   ],
   "source": [
    "orderid = post_resp['orderid']\n",
    "order_status_resp = espa_api('order-status/{}'.format(orderid))\n",
    "print(json.dumps(order_status_resp, indent=4))"
   ]
  },
  {
   "cell_type": "markdown",
   "metadata": {},
   "source": [
    "### Find the complete order and download by individual items"
   ]
  },
  {
   "cell_type": "code",
   "execution_count": 49,
   "metadata": {
    "collapsed": true,
    "extensions": {
     "jupyter_dashboards": {
      "version": 1,
      "views": {
       "grid_default": {
        "col": 0,
        "height": 12,
        "hidden": false,
        "row": 45,
        "width": 4
       },
       "report_default": {
        "hidden": false
       }
      }
     }
    }
   },
   "outputs": [],
   "source": [
    "def check_n_download(ordered_items_to_download):\n",
    "    #resp = espa_api('item-status/{0}'.format(orderid), body={'status': 'complete'})\n",
    "    #print(json.dumps(resp[orderid], indent=4))\n",
    "\n",
    "    print (len(ordered_items_to_download))\n",
    "    items_not_complete = []\n",
    "    \n",
    "    item_status_resp = espa_api('item-status/{0}'.format(orderid))\n",
    "    for item in item_status_resp[orderid]:    \n",
    "        if item['name'] in ordered_items_to_download: \n",
    "            if item['status'] == 'complete':\n",
    "                dload_url = item.get('product_dload_url')\n",
    "                print ('URL: {0}'.format(dload_url))\n",
    "                download_file(dload_url, data_dir)\n",
    "            else:\n",
    "                items_not_complete.append(item['name'])\n",
    "    \n",
    "    print (len(items_not_complete))\n",
    "    if len(items_not_complete) > 0:\n",
    "        time.sleep(300)\n",
    "        print ('check status again after 5 mins')\n",
    "        check_n_download(items_not_complete)            "
   ]
  },
  {
   "cell_type": "code",
   "execution_count": null,
   "metadata": {},
   "outputs": [
    {
     "name": "stdout",
     "output_type": "stream",
     "text": [
      "200 OK\n",
      "310\n",
      "310\n",
      "200 OK\n",
      "URL: https://edclpdsftp.cr.usgs.gov/orders/espa-tina.yang@ga.gov.au-11132017-155717-343/LT050920842010042401T1-SC20171113174105.tar.gz\n",
      "URL: https://edclpdsftp.cr.usgs.gov/orders/espa-tina.yang@ga.gov.au-11132017-155717-343/LT050920842009021601T1-SC20171113174056.tar.gz\n",
      "URL: https://edclpdsftp.cr.usgs.gov/orders/espa-tina.yang@ga.gov.au-11132017-155717-343/LE070920842010051801T1-SC20171113174035.tar.gz\n",
      "URL: https://edclpdsftp.cr.usgs.gov/orders/espa-tina.yang@ga.gov.au-11132017-155717-343/LT050920842009040501T1-SC20171113173937.tar.gz\n",
      "URL: https://edclpdsftp.cr.usgs.gov/orders/espa-tina.yang@ga.gov.au-11132017-155717-343/LE070920842003032801T1-SC20171113172406.tar.gz\n",
      "URL: https://edclpdsftp.cr.usgs.gov/orders/espa-tina.yang@ga.gov.au-11132017-155717-343/LT050920842010122001T1-SC20171113173756.tar.gz\n",
      "URL: https://edclpdsftp.cr.usgs.gov/orders/espa-tina.yang@ga.gov.au-11132017-155717-343/LE070920842003010701T1-SC20171113173746.tar.gz\n",
      "URL: https://edclpdsftp.cr.usgs.gov/orders/espa-tina.yang@ga.gov.au-11132017-155717-343/LT050920842008112801T2-SC20171113173649.tar.gz\n",
      "URL: https://edclpdsftp.cr.usgs.gov/orders/espa-tina.yang@ga.gov.au-11132017-155717-343/LT050920842010032301T1-SC20171113173532.tar.gz\n",
      "URL: https://edclpdsftp.cr.usgs.gov/orders/espa-tina.yang@ga.gov.au-11132017-155717-343/LE070920842009061601T1-SC20171113173425.tar.gz\n",
      "URL: https://edclpdsftp.cr.usgs.gov/orders/espa-tina.yang@ga.gov.au-11132017-155717-343/LT050920842009013101T1-SC20171113173402.tar.gz\n",
      "URL: https://edclpdsftp.cr.usgs.gov/orders/espa-tina.yang@ga.gov.au-11132017-155717-343/LT050920842004110101T1-SC20171113173215.tar.gz\n",
      "URL: https://edclpdsftp.cr.usgs.gov/orders/espa-tina.yang@ga.gov.au-11132017-155717-343/LE070920842007052601T1-SC20171113173314.tar.gz\n",
      "URL: https://edclpdsftp.cr.usgs.gov/orders/espa-tina.yang@ga.gov.au-11132017-155717-343/LE070920842004082101T1-SC20171113173301.tar.gz\n",
      "URL: https://edclpdsftp.cr.usgs.gov/orders/espa-tina.yang@ga.gov.au-11132017-155717-343/LT050920842005012001T1-SC20171113173118.tar.gz\n",
      "URL: https://edclpdsftp.cr.usgs.gov/orders/espa-tina.yang@ga.gov.au-11132017-155717-343/LE070920842003081901T1-SC20171113172806.tar.gz\n",
      "URL: https://edclpdsftp.cr.usgs.gov/orders/espa-tina.yang@ga.gov.au-11132017-155717-343/LT050920842010120401T1-SC20171113172831.tar.gz\n",
      "URL: https://edclpdsftp.cr.usgs.gov/orders/espa-tina.yang@ga.gov.au-11132017-155717-343/LE070920842005011201T1-SC20171113172733.tar.gz\n",
      "URL: https://edclpdsftp.cr.usgs.gov/orders/espa-tina.yang@ga.gov.au-11132017-155717-343/LT050920842009103001T1-SC20171113172809.tar.gz\n",
      "URL: https://edclpdsftp.cr.usgs.gov/orders/espa-tina.yang@ga.gov.au-11132017-155717-343/LE070920842005021301T1-SC20171113172722.tar.gz\n",
      "URL: https://edclpdsftp.cr.usgs.gov/orders/espa-tina.yang@ga.gov.au-11132017-155717-343/LT050920842009032001T1-SC20171113172755.tar.gz\n",
      "URL: https://edclpdsftp.cr.usgs.gov/orders/espa-tina.yang@ga.gov.au-11132017-155717-343/LE070920842003020801T1-SC20171113172745.tar.gz\n",
      "URL: https://edclpdsftp.cr.usgs.gov/orders/espa-tina.yang@ga.gov.au-11132017-155717-343/LE070920842004090601T2-SC20171113172651.tar.gz\n",
      "URL: https://edclpdsftp.cr.usgs.gov/orders/espa-tina.yang@ga.gov.au-11132017-155717-343/LE070920842003022401T1-SC20171113172716.tar.gz\n",
      "URL: https://edclpdsftp.cr.usgs.gov/orders/espa-tina.yang@ga.gov.au-11132017-155717-343/LT050920842009042101T1-SC20171113172724.tar.gz\n",
      "URL: https://edclpdsftp.cr.usgs.gov/orders/espa-tina.yang@ga.gov.au-11132017-155717-343/LT050920842009082701T1-SC20171113172713.tar.gz\n",
      "URL: https://edclpdsftp.cr.usgs.gov/orders/espa-tina.yang@ga.gov.au-11132017-155717-343/LT050920842010020301T2-SC20171113172705.tar.gz\n",
      "URL: https://edclpdsftp.cr.usgs.gov/orders/espa-tina.yang@ga.gov.au-11132017-155717-343/LT050920842009120101T1-SC20171113172659.tar.gz\n",
      "URL: https://edclpdsftp.cr.usgs.gov/orders/espa-tina.yang@ga.gov.au-11132017-155717-343/LT050920842010111801T1-SC20171113172645.tar.gz\n",
      "URL: https://edclpdsftp.cr.usgs.gov/orders/espa-tina.yang@ga.gov.au-11132017-155717-343/LT050920842010040801T1-SC20171113172653.tar.gz\n",
      "URL: https://edclpdsftp.cr.usgs.gov/orders/espa-tina.yang@ga.gov.au-11132017-155717-343/LT050920842010100101T1-SC20171113172644.tar.gz\n",
      "URL: https://edclpdsftp.cr.usgs.gov/orders/espa-tina.yang@ga.gov.au-11132017-155717-343/LT050920842008121401T1-SC20171113172619.tar.gz\n",
      "URL: https://edclpdsftp.cr.usgs.gov/orders/espa-tina.yang@ga.gov.au-11132017-155717-343/LT050920842009111501T1-SC20171113172632.tar.gz\n",
      "URL: https://edclpdsftp.cr.usgs.gov/orders/espa-tina.yang@ga.gov.au-11132017-155717-343/LT050920842009092801T1-SC20171113172626.tar.gz\n",
      "URL: https://edclpdsftp.cr.usgs.gov/orders/espa-tina.yang@ga.gov.au-11132017-155717-343/LT050920842010011801T1-SC20171113172620.tar.gz\n",
      "URL: https://edclpdsftp.cr.usgs.gov/orders/espa-tina.yang@ga.gov.au-11132017-155717-343/LT050920842009101401T2-SC20171113172623.tar.gz\n",
      "URL: https://edclpdsftp.cr.usgs.gov/orders/espa-tina.yang@ga.gov.au-11132017-155717-343/LT050920842008123001T1-SC20171113172615.tar.gz\n"
     ]
    }
   ],
   "source": [
    "orderid = 'espa-tina.yang@ga.gov.au-11132017-155717-343'\n",
    "item_status_resp = espa_api('item-status/{0}'.format(orderid))\n",
    "print (len(item_status_resp[orderid]))\n",
    "#print(json.dumps(item_status_resp, indent=4))\n",
    "check_n_download([x['name'] for x in item_status_resp[orderid]])"
   ]
  },
  {
   "cell_type": "markdown",
   "metadata": {},
   "source": [
    "### Alternatively Check the order status in the whole, if complete, then bulk-download"
   ]
  },
  {
   "cell_type": "code",
   "execution_count": 47,
   "metadata": {},
   "outputs": [
    {
     "name": "stdout",
     "output_type": "stream",
     "text": [
      "200 OK\n",
      "ERROR: Order ID orderid not found\n"
     ]
    }
   ],
   "source": [
    "email = username\n",
    "def check_n_download_whole():\n",
    "    order_status_resp = espa_api('order-status/{}'.format(orderid))\n",
    "    if order_status_resp['status'] == 'complete':\n",
    "        !python bulk-downloader/download_espa_order.py -e $email -o orderid -d $data_dir -u $username -p $password\n",
    "    else:\n",
    "        time.sleep(300)\n",
    "        print ('check status again after 5 minutes')\n",
    "        check_n_download_whole()\n",
    "check_n_download_whole()        "
   ]
  },
  {
   "cell_type": "code",
   "execution_count": null,
   "metadata": {
    "collapsed": true
   },
   "outputs": [],
   "source": []
  }
 ],
 "metadata": {
  "extensions": {
   "jupyter_dashboards": {
    "activeView": "grid_default",
    "version": 1,
    "views": {
     "grid_default": {
      "cellMargin": 10,
      "defaultCellHeight": 20,
      "maxColumns": 12,
      "name": "grid",
      "type": "grid"
     },
     "report_default": {
      "name": "report",
      "type": "report"
     }
    }
   }
  },
  "kernelspec": {
   "display_name": "Python 3",
   "language": "python",
   "name": "python3"
  },
  "language_info": {
   "codemirror_mode": {
    "name": "ipython",
    "version": 3
   },
   "file_extension": ".py",
   "mimetype": "text/x-python",
   "name": "python",
   "nbconvert_exporter": "python",
   "pygments_lexer": "ipython3",
   "version": "3.6.2"
  },
  "nav_menu": {},
  "toc": {
   "colors": {
    "hover_highlight": "#DAA520",
    "running_highlight": "#FF0000",
    "selected_highlight": "#FFD700"
   },
   "moveMenuLeft": true,
   "nav_menu": {
    "height": "335px",
    "width": "252px"
   },
   "navigate_menu": true,
   "number_sections": true,
   "sideBar": true,
   "threshold": 6,
   "toc_cell": false,
   "toc_section_display": "block",
   "toc_window_display": false
  }
 },
 "nbformat": 4,
 "nbformat_minor": 1
}
